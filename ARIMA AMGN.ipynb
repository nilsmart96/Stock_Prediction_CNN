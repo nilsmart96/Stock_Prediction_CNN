{
 "cells": [
  {
   "cell_type": "markdown",
   "id": "33f633be",
   "metadata": {},
   "source": [
    "Final ARIMA model for Amgen Inc."
   ]
  },
  {
   "cell_type": "code",
   "execution_count": 1,
   "id": "b394a550",
   "metadata": {},
   "outputs": [],
   "source": [
    "import numpy as np\n",
    "import pandas as pd\n",
    "import matplotlib.pyplot as plt\n",
    "from statsmodels.tsa.arima.model import ARIMA\n",
    "from statsmodels.graphics.tsaplots import plot_acf, plot_pacf\n",
    "from pandas.plotting import autocorrelation_plot\n",
    "from sklearn.preprocessing import MinMaxScaler"
   ]
  },
  {
   "cell_type": "markdown",
   "id": "5bee41ff",
   "metadata": {},
   "source": [
    "Importing the dataset"
   ]
  },
  {
   "cell_type": "code",
   "execution_count": 2,
   "id": "a29a4f86",
   "metadata": {},
   "outputs": [],
   "source": [
    "df = pd.read_csv(\"AMGN_NN_60sec_ret.csv\", low_memory=False, delimiter=\",\")"
   ]
  },
  {
   "cell_type": "code",
   "execution_count": 3,
   "id": "83bd2869",
   "metadata": {},
   "outputs": [
    {
     "data": {
      "text/html": [
       "<div>\n",
       "<style scoped>\n",
       "    .dataframe tbody tr th:only-of-type {\n",
       "        vertical-align: middle;\n",
       "    }\n",
       "\n",
       "    .dataframe tbody tr th {\n",
       "        vertical-align: top;\n",
       "    }\n",
       "\n",
       "    .dataframe thead th {\n",
       "        text-align: right;\n",
       "    }\n",
       "</style>\n",
       "<table border=\"1\" class=\"dataframe\">\n",
       "  <thead>\n",
       "    <tr style=\"text-align: right;\">\n",
       "      <th></th>\n",
       "      <th>TDay</th>\n",
       "      <th>IntraT</th>\n",
       "      <th>MidQ</th>\n",
       "      <th>Spread_Q</th>\n",
       "      <th>lag.MidQ</th>\n",
       "      <th>ret.MidQ</th>\n",
       "      <th>lag.Spread_Q</th>\n",
       "      <th>ret.Spread_Q</th>\n",
       "      <th>datetime</th>\n",
       "    </tr>\n",
       "    <tr>\n",
       "      <th>datetime</th>\n",
       "      <th></th>\n",
       "      <th></th>\n",
       "      <th></th>\n",
       "      <th></th>\n",
       "      <th></th>\n",
       "      <th></th>\n",
       "      <th></th>\n",
       "      <th></th>\n",
       "      <th></th>\n",
       "    </tr>\n",
       "  </thead>\n",
       "  <tbody>\n",
       "    <tr>\n",
       "      <th>2017-01-03 09:33:00</th>\n",
       "      <td>2017-01-03</td>\n",
       "      <td>09:33:00</td>\n",
       "      <td>147.250</td>\n",
       "      <td>294.50</td>\n",
       "      <td>147.25</td>\n",
       "      <td>0.000000</td>\n",
       "      <td>294.50</td>\n",
       "      <td>0.000000</td>\n",
       "      <td>2017-01-03 09:33:00</td>\n",
       "    </tr>\n",
       "    <tr>\n",
       "      <th>2017-01-03 09:34:00</th>\n",
       "      <td>2017-01-03</td>\n",
       "      <td>09:34:00</td>\n",
       "      <td>147.450</td>\n",
       "      <td>294.90</td>\n",
       "      <td>147.25</td>\n",
       "      <td>0.001357</td>\n",
       "      <td>294.50</td>\n",
       "      <td>0.001357</td>\n",
       "      <td>2017-01-03 09:34:00</td>\n",
       "    </tr>\n",
       "    <tr>\n",
       "      <th>2017-01-03 09:35:00</th>\n",
       "      <td>2017-01-03</td>\n",
       "      <td>09:35:00</td>\n",
       "      <td>147.320</td>\n",
       "      <td>294.64</td>\n",
       "      <td>147.45</td>\n",
       "      <td>-0.000882</td>\n",
       "      <td>294.90</td>\n",
       "      <td>-0.000882</td>\n",
       "      <td>2017-01-03 09:35:00</td>\n",
       "    </tr>\n",
       "    <tr>\n",
       "      <th>2017-01-03 09:36:00</th>\n",
       "      <td>2017-01-03</td>\n",
       "      <td>09:36:00</td>\n",
       "      <td>147.760</td>\n",
       "      <td>295.52</td>\n",
       "      <td>147.32</td>\n",
       "      <td>0.002982</td>\n",
       "      <td>294.64</td>\n",
       "      <td>0.002982</td>\n",
       "      <td>2017-01-03 09:36:00</td>\n",
       "    </tr>\n",
       "    <tr>\n",
       "      <th>2017-01-03 09:37:00</th>\n",
       "      <td>2017-01-03</td>\n",
       "      <td>09:37:00</td>\n",
       "      <td>147.805</td>\n",
       "      <td>295.61</td>\n",
       "      <td>147.76</td>\n",
       "      <td>0.000305</td>\n",
       "      <td>295.52</td>\n",
       "      <td>0.000305</td>\n",
       "      <td>2017-01-03 09:37:00</td>\n",
       "    </tr>\n",
       "  </tbody>\n",
       "</table>\n",
       "</div>"
      ],
      "text/plain": [
       "                           TDay    IntraT     MidQ  Spread_Q  lag.MidQ  \\\n",
       "datetime                                                                 \n",
       "2017-01-03 09:33:00  2017-01-03  09:33:00  147.250    294.50    147.25   \n",
       "2017-01-03 09:34:00  2017-01-03  09:34:00  147.450    294.90    147.25   \n",
       "2017-01-03 09:35:00  2017-01-03  09:35:00  147.320    294.64    147.45   \n",
       "2017-01-03 09:36:00  2017-01-03  09:36:00  147.760    295.52    147.32   \n",
       "2017-01-03 09:37:00  2017-01-03  09:37:00  147.805    295.61    147.76   \n",
       "\n",
       "                     ret.MidQ  lag.Spread_Q  ret.Spread_Q             datetime  \n",
       "datetime                                                                        \n",
       "2017-01-03 09:33:00  0.000000        294.50      0.000000  2017-01-03 09:33:00  \n",
       "2017-01-03 09:34:00  0.001357        294.50      0.001357  2017-01-03 09:34:00  \n",
       "2017-01-03 09:35:00 -0.000882        294.90     -0.000882  2017-01-03 09:35:00  \n",
       "2017-01-03 09:36:00  0.002982        294.64      0.002982  2017-01-03 09:36:00  \n",
       "2017-01-03 09:37:00  0.000305        295.52      0.000305  2017-01-03 09:37:00  "
      ]
     },
     "execution_count": 3,
     "metadata": {},
     "output_type": "execute_result"
    }
   ],
   "source": [
    "df[\"datetime\"] = df[\"TDay\"] + \" \" + df[\"IntraT\"]\n",
    "df.set_index(pd.DatetimeIndex(df['datetime']), inplace=True)\n",
    "\n",
    "df.head()"
   ]
  },
  {
   "cell_type": "markdown",
   "id": "f511c537",
   "metadata": {},
   "source": [
    "Creating a time series showing the daily mean returns"
   ]
  },
  {
   "cell_type": "code",
   "execution_count": 4,
   "id": "42a53040",
   "metadata": {},
   "outputs": [
    {
     "data": {
      "text/html": [
       "<div>\n",
       "<style scoped>\n",
       "    .dataframe tbody tr th:only-of-type {\n",
       "        vertical-align: middle;\n",
       "    }\n",
       "\n",
       "    .dataframe tbody tr th {\n",
       "        vertical-align: top;\n",
       "    }\n",
       "\n",
       "    .dataframe thead th {\n",
       "        text-align: right;\n",
       "    }\n",
       "</style>\n",
       "<table border=\"1\" class=\"dataframe\">\n",
       "  <thead>\n",
       "    <tr style=\"text-align: right;\">\n",
       "      <th></th>\n",
       "      <th>ret.MidQm</th>\n",
       "    </tr>\n",
       "    <tr>\n",
       "      <th>datetime</th>\n",
       "      <th></th>\n",
       "    </tr>\n",
       "  </thead>\n",
       "  <tbody>\n",
       "    <tr>\n",
       "      <th>2017-01-03</th>\n",
       "      <td>0.000067</td>\n",
       "    </tr>\n",
       "    <tr>\n",
       "      <th>2017-01-04</th>\n",
       "      <td>0.000021</td>\n",
       "    </tr>\n",
       "    <tr>\n",
       "      <th>2017-01-05</th>\n",
       "      <td>0.000008</td>\n",
       "    </tr>\n",
       "    <tr>\n",
       "      <th>2017-01-06</th>\n",
       "      <td>-0.000057</td>\n",
       "    </tr>\n",
       "    <tr>\n",
       "      <th>2017-01-09</th>\n",
       "      <td>-0.000009</td>\n",
       "    </tr>\n",
       "  </tbody>\n",
       "</table>\n",
       "</div>"
      ],
      "text/plain": [
       "            ret.MidQm\n",
       "datetime             \n",
       "2017-01-03   0.000067\n",
       "2017-01-04   0.000021\n",
       "2017-01-05   0.000008\n",
       "2017-01-06  -0.000057\n",
       "2017-01-09  -0.000009"
      ]
     },
     "execution_count": 4,
     "metadata": {},
     "output_type": "execute_result"
    }
   ],
   "source": [
    "df_avgm = df.groupby(df.index.date)['ret.MidQ'].mean().reset_index()\n",
    "df_avgm.columns = ['datetime', 'ret.MidQm']\n",
    "df_avgm.set_index(pd.DatetimeIndex(df_avgm['datetime']), inplace=True)\n",
    "df_avgm = df_avgm.drop(columns = {'datetime'})\n",
    "\n",
    "df_avgm.head()"
   ]
  },
  {
   "cell_type": "markdown",
   "id": "1b681c3f",
   "metadata": {},
   "source": [
    "Scaling the values"
   ]
  },
  {
   "cell_type": "code",
   "execution_count": 5,
   "id": "f3416130",
   "metadata": {},
   "outputs": [
    {
     "data": {
      "text/html": [
       "<div>\n",
       "<style scoped>\n",
       "    .dataframe tbody tr th:only-of-type {\n",
       "        vertical-align: middle;\n",
       "    }\n",
       "\n",
       "    .dataframe tbody tr th {\n",
       "        vertical-align: top;\n",
       "    }\n",
       "\n",
       "    .dataframe thead th {\n",
       "        text-align: right;\n",
       "    }\n",
       "</style>\n",
       "<table border=\"1\" class=\"dataframe\">\n",
       "  <thead>\n",
       "    <tr style=\"text-align: right;\">\n",
       "      <th></th>\n",
       "      <th>ret.MidQm</th>\n",
       "      <th>ret.MidQmsc</th>\n",
       "    </tr>\n",
       "    <tr>\n",
       "      <th>datetime</th>\n",
       "      <th></th>\n",
       "      <th></th>\n",
       "    </tr>\n",
       "  </thead>\n",
       "  <tbody>\n",
       "    <tr>\n",
       "      <th>2017-01-03</th>\n",
       "      <td>0.000067</td>\n",
       "      <td>0.699704</td>\n",
       "    </tr>\n",
       "    <tr>\n",
       "      <th>2017-01-04</th>\n",
       "      <td>0.000021</td>\n",
       "      <td>0.577794</td>\n",
       "    </tr>\n",
       "    <tr>\n",
       "      <th>2017-01-05</th>\n",
       "      <td>0.000008</td>\n",
       "      <td>0.543952</td>\n",
       "    </tr>\n",
       "    <tr>\n",
       "      <th>2017-01-06</th>\n",
       "      <td>-0.000057</td>\n",
       "      <td>0.369091</td>\n",
       "    </tr>\n",
       "    <tr>\n",
       "      <th>2017-01-09</th>\n",
       "      <td>-0.000009</td>\n",
       "      <td>0.496850</td>\n",
       "    </tr>\n",
       "  </tbody>\n",
       "</table>\n",
       "</div>"
      ],
      "text/plain": [
       "            ret.MidQm  ret.MidQmsc\n",
       "datetime                          \n",
       "2017-01-03   0.000067     0.699704\n",
       "2017-01-04   0.000021     0.577794\n",
       "2017-01-05   0.000008     0.543952\n",
       "2017-01-06  -0.000057     0.369091\n",
       "2017-01-09  -0.000009     0.496850"
      ]
     },
     "execution_count": 5,
     "metadata": {},
     "output_type": "execute_result"
    }
   ],
   "source": [
    "sc = MinMaxScaler(feature_range=(0,1))\n",
    "df_avgm['ret.MidQmsc'] = sc.fit_transform(df_avgm['ret.MidQm'].values.reshape(-1,1))\n",
    "\n",
    "df_avgm.head()"
   ]
  },
  {
   "cell_type": "markdown",
   "id": "ed41756f",
   "metadata": {},
   "source": [
    "Creating the input for the different models"
   ]
  },
  {
   "cell_type": "code",
   "execution_count": 6,
   "id": "6a8e16af",
   "metadata": {},
   "outputs": [],
   "source": [
    "data_train = df_avgm.iloc[1:101, 1:2].values\n",
    "data_full = df_avgm.iloc[1:124, 1:2].values\n",
    "data_test = df_avgm.iloc[101:124, 1:2].values\n",
    "\n",
    "squared_data_train = [x**2 for x in data_train]\n",
    "squared_data_train = np.array(squared_data_train)\n",
    "\n",
    "squared_data_full = [x**2 for x in data_full]\n",
    "squared_data_full = np.array(squared_data_full)"
   ]
  },
  {
   "cell_type": "code",
   "execution_count": 7,
   "id": "9a082302",
   "metadata": {},
   "outputs": [],
   "source": [
    "data_train3d = df_avgm.iloc[3:103, 1:2].values\n",
    "data_test3d = df_avgm.iloc[103:124, 1:2].values"
   ]
  },
  {
   "cell_type": "markdown",
   "id": "55037d3b",
   "metadata": {},
   "source": [
    "Plots of ACF and PACF"
   ]
  },
  {
   "cell_type": "code",
   "execution_count": 8,
   "id": "5518f1b7",
   "metadata": {},
   "outputs": [
    {
     "data": {
      "image/png": "[encoded data removed]",
      "text/plain": [
       "<Figure size 432x288 with 1 Axes>"
      ]
     },
     "metadata": {
      "needs_background": "light"
     },
     "output_type": "display_data"
    },
    {
     "data": {
      "image/png": "[encoded data removed]",
      "text/plain": [
       "<Figure size 432x288 with 1 Axes>"
      ]
     },
     "metadata": {
      "needs_background": "light"
     },
     "output_type": "display_data"
    }
   ],
   "source": [
    "autocorrelation_plot(data_train)\n",
    "plt.show()\n",
    "\n",
    "autocorrelation_plot(squared_data_train)\n",
    "plt.show()"
   ]
  },
  {
   "cell_type": "code",
   "execution_count": 9,
   "id": "77774cae",
   "metadata": {},
   "outputs": [
    {
     "data": {
      "image/png": "[encoded data removed]",
      "text/plain": [
       "<Figure size 432x288 with 1 Axes>"
      ]
     },
     "metadata": {
      "needs_background": "light"
     },
     "output_type": "display_data"
    },
    {
     "data": {
      "image/png": "[encoded data removed]",
      "text/plain": [
       "<Figure size 432x288 with 1 Axes>"
      ]
     },
     "metadata": {
      "needs_background": "light"
     },
     "output_type": "display_data"
    }
   ],
   "source": [
    "plot_acf(data_train)\n",
    "plt.show()\n",
    "\n",
    "plot_acf(squared_data_train)\n",
    "plt.show()"
   ]
  },
  {
   "cell_type": "code",
   "execution_count": 10,
   "id": "57a65374",
   "metadata": {},
   "outputs": [
    {
     "data": {
      "image/png": "[encoded data removed]",
      "text/plain": [
       "<Figure size 432x288 with 1 Axes>"
      ]
     },
     "metadata": {
      "needs_background": "light"
     },
     "output_type": "display_data"
    },
    {
     "data": {
      "image/png": "[encoded data removed]",
      "text/plain": [
       "<Figure size 432x288 with 1 Axes>"
      ]
     },
     "metadata": {
      "needs_background": "light"
     },
     "output_type": "display_data"
    }
   ],
   "source": [
    "plot_pacf(data_train)\n",
    "plt.show()\n",
    "\n",
    "plot_pacf(squared_data_train)\n",
    "plt.show()"
   ]
  },
  {
   "cell_type": "markdown",
   "id": "1e8aff13",
   "metadata": {},
   "source": [
    "Introduction of the ARIMA1 model"
   ]
  },
  {
   "cell_type": "code",
   "execution_count": 11,
   "id": "d070d9d1",
   "metadata": {},
   "outputs": [
    {
     "name": "stdout",
     "output_type": "stream",
     "text": [
      "                               SARIMAX Results                                \n",
      "==============================================================================\n",
      "Dep. Variable:                      y   No. Observations:                  100\n",
      "Model:                 ARIMA(8, 1, 8)   Log Likelihood                  80.623\n",
      "Date:                Sun, 23 Jan 2022   AIC                           -127.246\n",
      "Time:                        22:43:49   BIC                            -83.129\n",
      "Sample:                             0   HQIC                          -109.396\n",
      "                                - 100                                         \n",
      "Covariance Type:                  opg                                         \n",
      "==============================================================================\n",
      "                 coef    std err          z      P>|z|      [0.025      0.975]\n",
      "------------------------------------------------------------------------------\n",
      "ar.L1         -0.7144      0.229     -3.117      0.002      -1.164      -0.265\n",
      "ar.L2         -0.5482      0.290     -1.890      0.059      -1.116       0.020\n",
      "ar.L3         -0.1806      0.266     -0.680      0.497      -0.701       0.340\n",
      "ar.L4         -0.0673      0.288     -0.234      0.815      -0.631       0.496\n",
      "ar.L5         -0.2854      0.266     -1.073      0.283      -0.807       0.236\n",
      "ar.L6         -0.5322      0.246     -2.161      0.031      -1.015      -0.049\n",
      "ar.L7         -0.8896      0.212     -4.189      0.000      -1.306      -0.473\n",
      "ar.L8         -0.3139      0.143     -2.195      0.028      -0.594      -0.034\n",
      "ma.L1         -0.2316     25.115     -0.009      0.993     -49.457      48.994\n",
      "ma.L2         -0.2095     30.821     -0.007      0.995     -60.617      60.198\n",
      "ma.L3         -0.3304     25.537     -0.013      0.990     -50.382      49.721\n",
      "ma.L4         -0.1938     33.628     -0.006      0.995     -66.104      65.717\n",
      "ma.L5          0.1311     28.924      0.005      0.996     -56.560      56.822\n",
      "ma.L6          0.1823     25.729      0.007      0.994     -50.245      50.609\n",
      "ma.L7          0.4417     30.301      0.015      0.988     -58.947      59.830\n",
      "ma.L8         -0.7678     19.281     -0.040      0.968     -38.559      37.023\n",
      "sigma2         0.0103      0.256      0.040      0.968      -0.492       0.512\n",
      "===================================================================================\n",
      "Ljung-Box (Q):                       22.27   Jarque-Bera (JB):               175.08\n",
      "Prob(Q):                              0.99   Prob(JB):                         0.00\n",
      "Heteroskedasticity (H):               0.82   Skew:                             0.23\n",
      "Prob(H) (two-sided):                  0.58   Kurtosis:                         9.50\n",
      "===================================================================================\n",
      "\n",
      "Warnings:\n",
      "[1] Covariance matrix calculated using the outer product of gradients (complex-step).\n"
     ]
    },
    {
     "name": "stderr",
     "output_type": "stream",
     "text": [
      "C:\\Users\\nmart\\anaconda3\\lib\\site-packages\\statsmodels\\base\\model.py:567: ConvergenceWarning: Maximum Likelihood optimization failed to converge. Check mle_retvals\n",
      "  warn(\"Maximum Likelihood optimization failed to converge. \"\n"
     ]
    }
   ],
   "source": [
    "model = ARIMA(data_train, order=(8,1,8))\n",
    "model_fit = model.fit()\n",
    "# summary of fit model\n",
    "print(model_fit.summary())"
   ]
  },
  {
   "cell_type": "code",
   "execution_count": 12,
   "id": "b56eec9d",
   "metadata": {},
   "outputs": [
    {
     "data": {
      "image/png": "[encoded data removed]",
      "text/plain": [
       "<Figure size 432x288 with 1 Axes>"
      ]
     },
     "metadata": {
      "needs_background": "light"
     },
     "output_type": "display_data"
    },
    {
     "data": {
      "image/png": "[encoded data removed]",
      "text/plain": [
       "<Figure size 432x288 with 1 Axes>"
      ]
     },
     "metadata": {
      "needs_background": "light"
     },
     "output_type": "display_data"
    },
    {
     "name": "stdout",
     "output_type": "stream",
     "text": [
      "                0\n",
      "count  100.000000\n",
      "mean     0.002456\n",
      "std      0.121808\n",
      "min     -0.465346\n",
      "25%     -0.046127\n",
      "50%      0.000388\n",
      "75%      0.044631\n",
      "max      0.577794\n"
     ]
    }
   ],
   "source": [
    "residuals = pd.DataFrame(model_fit.resid)\n",
    "residuals.plot()\n",
    "plt.show()\n",
    "# density plot of residuals\n",
    "residuals.plot(kind='kde')\n",
    "plt.show()\n",
    "# summary stats of residuals\n",
    "print(residuals.describe())"
   ]
  },
  {
   "cell_type": "markdown",
   "id": "845b801b",
   "metadata": {},
   "source": [
    "Making a forecast using the ARIMA1 model"
   ]
  },
  {
   "cell_type": "code",
   "execution_count": 13,
   "id": "3797e75d",
   "metadata": {},
   "outputs": [],
   "source": [
    "output1 = model_fit.forecast(steps=20)\n",
    "output1 = pd.DataFrame({'predictionssc': output1[:]})"
   ]
  },
  {
   "cell_type": "markdown",
   "id": "1d69273a",
   "metadata": {},
   "source": [
    "Visualization of the results"
   ]
  },
  {
   "cell_type": "code",
   "execution_count": 14,
   "id": "aa22bcb9",
   "metadata": {},
   "outputs": [],
   "source": [
    "data_test = data_test[0:20]\n",
    "data_test = pd.DataFrame({'realsc': data_test[:, 0]})"
   ]
  },
  {
   "cell_type": "code",
   "execution_count": 15,
   "id": "f1d0ae59",
   "metadata": {},
   "outputs": [],
   "source": [
    "output1['predictions'] = sc.inverse_transform(output1['predictionssc'].values.reshape(-1,1))\n",
    "data_test['real'] = sc.inverse_transform(data_test['realsc'].values.reshape(-1,1))"
   ]
  },
  {
   "cell_type": "code",
   "execution_count": 16,
   "id": "078e2972",
   "metadata": {},
   "outputs": [
    {
     "data": {
      "image/png": "[encoded data removed]",
      "text/plain": [
       "<Figure size 560x160 with 1 Axes>"
      ]
     },
     "metadata": {
      "needs_background": "light"
     },
     "output_type": "display_data"
    }
   ],
   "source": [
    "plt.figure(figsize=(7, 2), dpi=80)\n",
    "plt.plot(data_test['real'], color='black', label='real')\n",
    "plt.plot(output1['predictions'], color='green', label='prediction')\n",
    "plt.xticks(np.arange(0, 20+1, 2.0))\n",
    "plt.title('Amgen Inc.')\n",
    "plt.xlabel('Day')\n",
    "plt.ylabel('Simple mean return')\n",
    "plt.legend()\n",
    "plt.show()"
   ]
  },
  {
   "cell_type": "markdown",
   "id": "d8d3f29f",
   "metadata": {},
   "source": [
    "Mean squared error of the results"
   ]
  },
  {
   "cell_type": "code",
   "execution_count": 17,
   "id": "988cecc0",
   "metadata": {},
   "outputs": [
    {
     "name": "stdout",
     "output_type": "stream",
     "text": [
      "0.008219632402869827\n"
     ]
    }
   ],
   "source": [
    "data_test_mse = data_test.iloc[:, 0:1].values\n",
    "output11 = output1.iloc[:, 0:1].values\n",
    "\n",
    "diff_res = np.subtract(data_test_mse, output11)\n",
    "sq_res = np.square(diff_res)\n",
    "mse_res = sq_res.mean()\n",
    "\n",
    "print(mse_res)"
   ]
  },
  {
   "cell_type": "code",
   "execution_count": 18,
   "id": "38be019c",
   "metadata": {},
   "outputs": [
    {
     "name": "stdout",
     "output_type": "stream",
     "text": [
      "      realsc      real\n",
      "0   0.548499  0.000010\n",
      "1   0.536742  0.000006\n",
      "2   0.599902  0.000029\n",
      "3   0.570401  0.000018\n",
      "4   0.516246 -0.000002\n",
      "5   0.586375  0.000024\n",
      "6   0.535891  0.000005\n",
      "7   0.580186  0.000022\n",
      "8   0.431340 -0.000033\n",
      "9   0.532355  0.000004\n",
      "10  0.493705 -0.000010\n",
      "11  0.458640 -0.000023\n",
      "12  0.530763  0.000004\n",
      "13  0.626834  0.000039\n",
      "14  0.624975  0.000039\n",
      "15  0.647796  0.000047\n",
      "16  0.495288 -0.000010\n",
      "17  0.543566  0.000008\n",
      "18  0.528663  0.000003\n",
      "19  0.452511 -0.000026\n"
     ]
    }
   ],
   "source": [
    "print(data_test)"
   ]
  },
  {
   "cell_type": "code",
   "execution_count": 19,
   "id": "7baf9700",
   "metadata": {},
   "outputs": [
    {
     "name": "stdout",
     "output_type": "stream",
     "text": [
      "    predictionssc   predictions\n",
      "0        0.456189 -2.420274e-05\n",
      "1        0.432062 -3.319077e-05\n",
      "2        0.520239 -3.416004e-07\n",
      "3        0.411968 -4.067663e-05\n",
      "4        0.542541  7.966973e-06\n",
      "5        0.569979  1.818843e-05\n",
      "6        0.475553 -1.698891e-05\n",
      "7        0.582187  2.273650e-05\n",
      "8        0.570271  1.829725e-05\n",
      "9        0.485027 -1.345924e-05\n",
      "10       0.530863  3.616291e-06\n",
      "11       0.470001 -1.905725e-05\n",
      "12       0.458980 -2.316290e-05\n",
      "13       0.519706 -5.399942e-07\n",
      "14       0.455725 -2.437551e-05\n",
      "15       0.483647 -1.397328e-05\n",
      "16       0.561094  1.487839e-05\n",
      "17       0.519450 -6.353780e-07\n",
      "18       0.534297  4.895503e-06\n",
      "19       0.545501  9.069606e-06\n"
     ]
    }
   ],
   "source": [
    "print(output1)"
   ]
  },
  {
   "cell_type": "markdown",
   "id": "0caf45bb",
   "metadata": {},
   "source": [
    "Introducing the ARIMA2 model and making forecasts"
   ]
  },
  {
   "cell_type": "code",
   "execution_count": 20,
   "id": "0c5171ba",
   "metadata": {},
   "outputs": [
    {
     "name": "stderr",
     "output_type": "stream",
     "text": [
      "C:\\Users\\nmart\\anaconda3\\lib\\site-packages\\statsmodels\\base\\model.py:567: ConvergenceWarning: Maximum Likelihood optimization failed to converge. Check mle_retvals\n",
      "  warn(\"Maximum Likelihood optimization failed to converge. \"\n",
      "C:\\Users\\nmart\\anaconda3\\lib\\site-packages\\statsmodels\\tsa\\statespace\\sarimax.py:975: UserWarning: Non-invertible starting MA parameters found. Using zeros as starting parameters.\n",
      "  warn('Non-invertible starting MA parameters found.'\n"
     ]
    },
    {
     "name": "stdout",
     "output_type": "stream",
     "text": [
      "predicted=0.456189, expected=0.548499\n"
     ]
    },
    {
     "name": "stderr",
     "output_type": "stream",
     "text": [
      "C:\\Users\\nmart\\anaconda3\\lib\\site-packages\\statsmodels\\base\\model.py:567: ConvergenceWarning: Maximum Likelihood optimization failed to converge. Check mle_retvals\n",
      "  warn(\"Maximum Likelihood optimization failed to converge. \"\n"
     ]
    },
    {
     "name": "stdout",
     "output_type": "stream",
     "text": [
      "predicted=0.526468, expected=0.536742\n"
     ]
    },
    {
     "name": "stderr",
     "output_type": "stream",
     "text": [
      "C:\\Users\\nmart\\anaconda3\\lib\\site-packages\\statsmodels\\base\\model.py:567: ConvergenceWarning: Maximum Likelihood optimization failed to converge. Check mle_retvals\n",
      "  warn(\"Maximum Likelihood optimization failed to converge. \"\n"
     ]
    },
    {
     "name": "stdout",
     "output_type": "stream",
     "text": [
      "predicted=0.508983, expected=0.599902\n"
     ]
    },
    {
     "name": "stderr",
     "output_type": "stream",
     "text": [
      "C:\\Users\\nmart\\anaconda3\\lib\\site-packages\\statsmodels\\base\\model.py:567: ConvergenceWarning: Maximum Likelihood optimization failed to converge. Check mle_retvals\n",
      "  warn(\"Maximum Likelihood optimization failed to converge. \"\n"
     ]
    },
    {
     "name": "stdout",
     "output_type": "stream",
     "text": [
      "predicted=0.416939, expected=0.570401\n"
     ]
    },
    {
     "name": "stderr",
     "output_type": "stream",
     "text": [
      "C:\\Users\\nmart\\anaconda3\\lib\\site-packages\\statsmodels\\base\\model.py:567: ConvergenceWarning: Maximum Likelihood optimization failed to converge. Check mle_retvals\n",
      "  warn(\"Maximum Likelihood optimization failed to converge. \"\n"
     ]
    },
    {
     "name": "stdout",
     "output_type": "stream",
     "text": [
      "predicted=0.576752, expected=0.516246\n"
     ]
    },
    {
     "name": "stderr",
     "output_type": "stream",
     "text": [
      "C:\\Users\\nmart\\anaconda3\\lib\\site-packages\\statsmodels\\base\\model.py:567: ConvergenceWarning: Maximum Likelihood optimization failed to converge. Check mle_retvals\n",
      "  warn(\"Maximum Likelihood optimization failed to converge. \"\n"
     ]
    },
    {
     "name": "stdout",
     "output_type": "stream",
     "text": [
      "predicted=0.549104, expected=0.586375\n"
     ]
    },
    {
     "name": "stderr",
     "output_type": "stream",
     "text": [
      "C:\\Users\\nmart\\anaconda3\\lib\\site-packages\\statsmodels\\base\\model.py:567: ConvergenceWarning: Maximum Likelihood optimization failed to converge. Check mle_retvals\n",
      "  warn(\"Maximum Likelihood optimization failed to converge. \"\n"
     ]
    },
    {
     "name": "stdout",
     "output_type": "stream",
     "text": [
      "predicted=0.474990, expected=0.535891\n"
     ]
    },
    {
     "name": "stderr",
     "output_type": "stream",
     "text": [
      "C:\\Users\\nmart\\anaconda3\\lib\\site-packages\\statsmodels\\base\\model.py:567: ConvergenceWarning: Maximum Likelihood optimization failed to converge. Check mle_retvals\n",
      "  warn(\"Maximum Likelihood optimization failed to converge. \"\n"
     ]
    },
    {
     "name": "stdout",
     "output_type": "stream",
     "text": [
      "predicted=0.549863, expected=0.580186\n"
     ]
    },
    {
     "name": "stderr",
     "output_type": "stream",
     "text": [
      "C:\\Users\\nmart\\anaconda3\\lib\\site-packages\\statsmodels\\base\\model.py:567: ConvergenceWarning: Maximum Likelihood optimization failed to converge. Check mle_retvals\n",
      "  warn(\"Maximum Likelihood optimization failed to converge. \"\n"
     ]
    },
    {
     "name": "stdout",
     "output_type": "stream",
     "text": [
      "predicted=0.533110, expected=0.431340\n"
     ]
    },
    {
     "name": "stderr",
     "output_type": "stream",
     "text": [
      "C:\\Users\\nmart\\anaconda3\\lib\\site-packages\\statsmodels\\base\\model.py:567: ConvergenceWarning: Maximum Likelihood optimization failed to converge. Check mle_retvals\n",
      "  warn(\"Maximum Likelihood optimization failed to converge. \"\n"
     ]
    },
    {
     "name": "stdout",
     "output_type": "stream",
     "text": [
      "predicted=0.544514, expected=0.532355\n"
     ]
    },
    {
     "name": "stderr",
     "output_type": "stream",
     "text": [
      "C:\\Users\\nmart\\anaconda3\\lib\\site-packages\\statsmodels\\base\\model.py:567: ConvergenceWarning: Maximum Likelihood optimization failed to converge. Check mle_retvals\n",
      "  warn(\"Maximum Likelihood optimization failed to converge. \"\n"
     ]
    },
    {
     "name": "stdout",
     "output_type": "stream",
     "text": [
      "predicted=0.554746, expected=0.493705\n"
     ]
    },
    {
     "name": "stderr",
     "output_type": "stream",
     "text": [
      "C:\\Users\\nmart\\anaconda3\\lib\\site-packages\\statsmodels\\base\\model.py:567: ConvergenceWarning: Maximum Likelihood optimization failed to converge. Check mle_retvals\n",
      "  warn(\"Maximum Likelihood optimization failed to converge. \"\n"
     ]
    },
    {
     "name": "stdout",
     "output_type": "stream",
     "text": [
      "predicted=0.454621, expected=0.458640\n"
     ]
    },
    {
     "name": "stderr",
     "output_type": "stream",
     "text": [
      "C:\\Users\\nmart\\anaconda3\\lib\\site-packages\\statsmodels\\base\\model.py:567: ConvergenceWarning: Maximum Likelihood optimization failed to converge. Check mle_retvals\n",
      "  warn(\"Maximum Likelihood optimization failed to converge. \"\n"
     ]
    },
    {
     "name": "stdout",
     "output_type": "stream",
     "text": [
      "predicted=0.515250, expected=0.530763\n"
     ]
    },
    {
     "name": "stderr",
     "output_type": "stream",
     "text": [
      "C:\\Users\\nmart\\anaconda3\\lib\\site-packages\\statsmodels\\base\\model.py:567: ConvergenceWarning: Maximum Likelihood optimization failed to converge. Check mle_retvals\n",
      "  warn(\"Maximum Likelihood optimization failed to converge. \"\n"
     ]
    },
    {
     "name": "stdout",
     "output_type": "stream",
     "text": [
      "predicted=0.519881, expected=0.626834\n"
     ]
    },
    {
     "name": "stderr",
     "output_type": "stream",
     "text": [
      "C:\\Users\\nmart\\anaconda3\\lib\\site-packages\\statsmodels\\base\\model.py:567: ConvergenceWarning: Maximum Likelihood optimization failed to converge. Check mle_retvals\n",
      "  warn(\"Maximum Likelihood optimization failed to converge. \"\n"
     ]
    },
    {
     "name": "stdout",
     "output_type": "stream",
     "text": [
      "predicted=0.491706, expected=0.624975\n"
     ]
    },
    {
     "name": "stderr",
     "output_type": "stream",
     "text": [
      "C:\\Users\\nmart\\anaconda3\\lib\\site-packages\\statsmodels\\base\\model.py:567: ConvergenceWarning: Maximum Likelihood optimization failed to converge. Check mle_retvals\n",
      "  warn(\"Maximum Likelihood optimization failed to converge. \"\n"
     ]
    },
    {
     "name": "stdout",
     "output_type": "stream",
     "text": [
      "predicted=0.529957, expected=0.647796\n"
     ]
    },
    {
     "name": "stderr",
     "output_type": "stream",
     "text": [
      "C:\\Users\\nmart\\anaconda3\\lib\\site-packages\\statsmodels\\base\\model.py:567: ConvergenceWarning: Maximum Likelihood optimization failed to converge. Check mle_retvals\n",
      "  warn(\"Maximum Likelihood optimization failed to converge. \"\n"
     ]
    },
    {
     "name": "stdout",
     "output_type": "stream",
     "text": [
      "predicted=0.587782, expected=0.495288\n"
     ]
    },
    {
     "name": "stderr",
     "output_type": "stream",
     "text": [
      "C:\\Users\\nmart\\anaconda3\\lib\\site-packages\\statsmodels\\base\\model.py:567: ConvergenceWarning: Maximum Likelihood optimization failed to converge. Check mle_retvals\n",
      "  warn(\"Maximum Likelihood optimization failed to converge. \"\n"
     ]
    },
    {
     "name": "stdout",
     "output_type": "stream",
     "text": [
      "predicted=0.486542, expected=0.543566\n"
     ]
    },
    {
     "name": "stderr",
     "output_type": "stream",
     "text": [
      "C:\\Users\\nmart\\anaconda3\\lib\\site-packages\\statsmodels\\base\\model.py:567: ConvergenceWarning: Maximum Likelihood optimization failed to converge. Check mle_retvals\n",
      "  warn(\"Maximum Likelihood optimization failed to converge. \"\n"
     ]
    },
    {
     "name": "stdout",
     "output_type": "stream",
     "text": [
      "predicted=0.566221, expected=0.528663\n"
     ]
    },
    {
     "name": "stderr",
     "output_type": "stream",
     "text": [
      "C:\\Users\\nmart\\anaconda3\\lib\\site-packages\\statsmodels\\base\\model.py:567: ConvergenceWarning: Maximum Likelihood optimization failed to converge. Check mle_retvals\n",
      "  warn(\"Maximum Likelihood optimization failed to converge. \"\n"
     ]
    },
    {
     "name": "stdout",
     "output_type": "stream",
     "text": [
      "predicted=0.484766, expected=0.452511\n"
     ]
    },
    {
     "name": "stderr",
     "output_type": "stream",
     "text": [
      "C:\\Users\\nmart\\anaconda3\\lib\\site-packages\\statsmodels\\base\\model.py:567: ConvergenceWarning: Maximum Likelihood optimization failed to converge. Check mle_retvals\n",
      "  warn(\"Maximum Likelihood optimization failed to converge. \"\n"
     ]
    },
    {
     "name": "stdout",
     "output_type": "stream",
     "text": [
      "predicted=0.499407, expected=0.469261\n"
     ]
    },
    {
     "name": "stderr",
     "output_type": "stream",
     "text": [
      "C:\\Users\\nmart\\anaconda3\\lib\\site-packages\\statsmodels\\base\\model.py:567: ConvergenceWarning: Maximum Likelihood optimization failed to converge. Check mle_retvals\n",
      "  warn(\"Maximum Likelihood optimization failed to converge. \"\n"
     ]
    },
    {
     "name": "stdout",
     "output_type": "stream",
     "text": [
      "predicted=0.500204, expected=0.442868\n",
      "predicted=0.497343, expected=0.274725\n",
      "Test MSE: 0.0080161842\n"
     ]
    },
    {
     "name": "stderr",
     "output_type": "stream",
     "text": [
      "C:\\Users\\nmart\\anaconda3\\lib\\site-packages\\statsmodels\\base\\model.py:567: ConvergenceWarning: Maximum Likelihood optimization failed to converge. Check mle_retvals\n",
      "  warn(\"Maximum Likelihood optimization failed to converge. \"\n"
     ]
    },
    {
     "data": {
      "image/png": "[encoded data removed]",
      "text/plain": [
       "<Figure size 432x288 with 1 Axes>"
      ]
     },
     "metadata": {
      "needs_background": "light"
     },
     "output_type": "display_data"
    }
   ],
   "source": [
    "X = data_full\n",
    "size = int(len(X) * 0.82)\n",
    "train, test = X[0:size], X[size:len(X)]\n",
    "history = [x for x in train]\n",
    "predictions = list()\n",
    "# walk-forward validation\n",
    "for t in range(len(test)):\n",
    "\tmodel = ARIMA(history, order=(8,1,8))\n",
    "\tmodel_fit = model.fit()\n",
    "\toutput = model_fit.forecast()\n",
    "\tyhat = output[0]\n",
    "\tpredictions.append(yhat)\n",
    "\tobs = test[t]\n",
    "\thistory.append(obs)\n",
    "\tprint('predicted=%f, expected=%f' % (yhat, obs))\n",
    "# evaluate forecasts\n",
    "diff_res = np.subtract(test, predictions)\n",
    "sq_res = np.square(diff_res)\n",
    "mse_res = sq_res.mean()\n",
    "print('Test MSE: %.10f' % mse_res)\n",
    "# plot forecasts against actual outcomes\n",
    "plt.plot(test, color='black')\n",
    "plt.plot(predictions, color='green')\n",
    "plt.show()"
   ]
  },
  {
   "cell_type": "markdown",
   "id": "7bef6ad7",
   "metadata": {},
   "source": [
    "Shaping the predictions"
   ]
  },
  {
   "cell_type": "code",
   "execution_count": 21,
   "id": "4eaa0585",
   "metadata": {},
   "outputs": [],
   "source": [
    "predictions = predictions[0:20]\n",
    "output2 = pd.DataFrame({'predictionssc': predictions[:]})\n",
    "output2['predictions'] = sc.inverse_transform(output2['predictionssc'].values.reshape(-1,1))"
   ]
  },
  {
   "cell_type": "markdown",
   "id": "20c661ef",
   "metadata": {},
   "source": [
    "Visualization of the results"
   ]
  },
  {
   "cell_type": "code",
   "execution_count": 22,
   "id": "50e63310",
   "metadata": {},
   "outputs": [
    {
     "data": {
      "image/png": "[encoded data removed]",
      "text/plain": [
       "<Figure size 560x160 with 1 Axes>"
      ]
     },
     "metadata": {
      "needs_background": "light"
     },
     "output_type": "display_data"
    }
   ],
   "source": [
    "plt.figure(figsize=(7, 2), dpi=80)\n",
    "plt.plot(data_test['real'], color='black', label='real')\n",
    "plt.plot(output2['predictions'], color='green', label='prediction')\n",
    "plt.xticks(np.arange(0, 20+1, 2.0))\n",
    "plt.title('Amgen Inc.')\n",
    "plt.xlabel('Day')\n",
    "plt.ylabel('Simple mean return')\n",
    "plt.legend()\n",
    "plt.show()"
   ]
  },
  {
   "cell_type": "markdown",
   "id": "7e6b117b",
   "metadata": {},
   "source": [
    "Mean squared error of the results"
   ]
  },
  {
   "cell_type": "code",
   "execution_count": 23,
   "id": "5ddcddf1",
   "metadata": {},
   "outputs": [
    {
     "name": "stdout",
     "output_type": "stream",
     "text": [
      "0.006097663448479819\n"
     ]
    }
   ],
   "source": [
    "output22 = output2.iloc[:, 0:1].values\n",
    "\n",
    "diff_res = np.subtract(data_test_mse, output22)\n",
    "sq_res = np.square(diff_res)\n",
    "mse_res = sq_res.mean()\n",
    "\n",
    "print(mse_res)"
   ]
  },
  {
   "cell_type": "code",
   "execution_count": 24,
   "id": "b16deecd",
   "metadata": {},
   "outputs": [
    {
     "name": "stdout",
     "output_type": "stream",
     "text": [
      "    predictionssc   predictions\n",
      "0        0.456189 -2.420274e-05\n",
      "1        0.526468  1.979228e-06\n",
      "2        0.508983 -4.534901e-06\n",
      "3        0.416939 -3.882489e-05\n",
      "4        0.576752  2.071186e-05\n",
      "5        0.549104  1.041178e-05\n",
      "6        0.474990 -1.719861e-05\n",
      "7        0.549863  1.069448e-05\n",
      "8        0.533110  4.453264e-06\n",
      "9        0.544514  8.701925e-06\n",
      "10       0.554746  1.251385e-05\n",
      "11       0.454621 -2.478685e-05\n",
      "12       0.515250 -2.200057e-06\n",
      "13       0.519881 -4.749381e-07\n",
      "14       0.491706 -1.097109e-05\n",
      "15       0.529957  3.278948e-06\n",
      "16       0.587782  2.482084e-05\n",
      "17       0.486542 -1.289480e-05\n",
      "18       0.566221  1.678874e-05\n",
      "19       0.484766 -1.355642e-05\n"
     ]
    }
   ],
   "source": [
    "print(output2)"
   ]
  },
  {
   "cell_type": "code",
   "execution_count": 25,
   "id": "c9229362",
   "metadata": {},
   "outputs": [
    {
     "name": "stdout",
     "output_type": "stream",
     "text": [
      "      realsc      real\n",
      "0   0.548499  0.000010\n",
      "1   0.536742  0.000006\n",
      "2   0.599902  0.000029\n",
      "3   0.570401  0.000018\n",
      "4   0.516246 -0.000002\n",
      "5   0.586375  0.000024\n",
      "6   0.535891  0.000005\n",
      "7   0.580186  0.000022\n",
      "8   0.431340 -0.000033\n",
      "9   0.532355  0.000004\n",
      "10  0.493705 -0.000010\n",
      "11  0.458640 -0.000023\n",
      "12  0.530763  0.000004\n",
      "13  0.626834  0.000039\n",
      "14  0.624975  0.000039\n",
      "15  0.647796  0.000047\n",
      "16  0.495288 -0.000010\n",
      "17  0.543566  0.000008\n",
      "18  0.528663  0.000003\n",
      "19  0.452511 -0.000026\n"
     ]
    }
   ],
   "source": [
    "print(data_test)"
   ]
  },
  {
   "cell_type": "markdown",
   "id": "1526ccb3",
   "metadata": {},
   "source": [
    "Introduction of the ARIMA3 model"
   ]
  },
  {
   "cell_type": "code",
   "execution_count": 26,
   "id": "2b1972ef",
   "metadata": {},
   "outputs": [
    {
     "name": "stderr",
     "output_type": "stream",
     "text": [
      "C:\\Users\\nmart\\anaconda3\\lib\\site-packages\\statsmodels\\tsa\\statespace\\sarimax.py:975: UserWarning: Non-invertible starting MA parameters found. Using zeros as starting parameters.\n",
      "  warn('Non-invertible starting MA parameters found.'\n"
     ]
    },
    {
     "name": "stdout",
     "output_type": "stream",
     "text": [
      "                               SARIMAX Results                                \n",
      "==============================================================================\n",
      "Dep. Variable:                      y   No. Observations:                  100\n",
      "Model:                 ARIMA(8, 1, 8)   Log Likelihood                  79.171\n",
      "Date:                Sun, 23 Jan 2022   AIC                           -124.342\n",
      "Time:                        22:44:21   BIC                            -80.225\n",
      "Sample:                             0   HQIC                          -106.493\n",
      "                                - 100                                         \n",
      "Covariance Type:                  opg                                         \n",
      "==============================================================================\n",
      "                 coef    std err          z      P>|z|      [0.025      0.975]\n",
      "------------------------------------------------------------------------------\n",
      "ar.L1         -1.0572      0.231     -4.584      0.000      -1.509      -0.605\n",
      "ar.L2         -0.5068      0.474     -1.070      0.285      -1.435       0.422\n",
      "ar.L3          0.0448      0.402      0.111      0.911      -0.744       0.833\n",
      "ar.L4          0.0471      0.328      0.144      0.886      -0.595       0.689\n",
      "ar.L5         -0.3586      0.353     -1.016      0.310      -1.051       0.333\n",
      "ar.L6         -0.9248      0.359     -2.579      0.010      -1.628      -0.222\n",
      "ar.L7         -0.7632      0.296     -2.575      0.010      -1.344      -0.182\n",
      "ar.L8         -0.2215      0.216     -1.024      0.306      -0.645       0.202\n",
      "ma.L1          0.0975      0.820      0.119      0.905      -1.510       1.705\n",
      "ma.L2         -0.5108      1.208     -0.423      0.672      -2.878       1.856\n",
      "ma.L3         -0.5299      0.539     -0.983      0.325      -1.586       0.526\n",
      "ma.L4         -0.1523      1.004     -0.152      0.879      -2.121       1.816\n",
      "ma.L5          0.3208      0.431      0.744      0.457      -0.524       1.166\n",
      "ma.L6          0.5968      0.941      0.634      0.526      -1.247       2.441\n",
      "ma.L7         -0.0884      0.701     -0.126      0.900      -1.462       1.285\n",
      "ma.L8         -0.7221      0.789     -0.915      0.360      -2.269       0.825\n",
      "sigma2         0.0109      0.010      1.101      0.271      -0.008       0.030\n",
      "===================================================================================\n",
      "Ljung-Box (Q):                       20.97   Jarque-Bera (JB):               210.87\n",
      "Prob(Q):                              0.99   Prob(JB):                         0.00\n",
      "Heteroskedasticity (H):               0.76   Skew:                            -0.05\n",
      "Prob(H) (two-sided):                  0.44   Kurtosis:                        10.15\n",
      "===================================================================================\n",
      "\n",
      "Warnings:\n",
      "[1] Covariance matrix calculated using the outer product of gradients (complex-step).\n"
     ]
    },
    {
     "name": "stderr",
     "output_type": "stream",
     "text": [
      "C:\\Users\\nmart\\anaconda3\\lib\\site-packages\\statsmodels\\base\\model.py:567: ConvergenceWarning: Maximum Likelihood optimization failed to converge. Check mle_retvals\n",
      "  warn(\"Maximum Likelihood optimization failed to converge. \"\n"
     ]
    }
   ],
   "source": [
    "model3d = ARIMA(data_train3d, order=(8,1,8))\n",
    "model_fit = model3d.fit()\n",
    "# summary of fit model\n",
    "print(model_fit.summary())"
   ]
  },
  {
   "cell_type": "code",
   "execution_count": 27,
   "id": "4074a41d",
   "metadata": {},
   "outputs": [
    {
     "data": {
      "image/png": "[encoded data removed]",
      "text/plain": [
       "<Figure size 432x288 with 1 Axes>"
      ]
     },
     "metadata": {
      "needs_background": "light"
     },
     "output_type": "display_data"
    },
    {
     "data": {
      "image/png": "[encoded data removed]",
      "text/plain": [
       "<Figure size 432x288 with 1 Axes>"
      ]
     },
     "metadata": {
      "needs_background": "light"
     },
     "output_type": "display_data"
    },
    {
     "name": "stdout",
     "output_type": "stream",
     "text": [
      "                0\n",
      "count  100.000000\n",
      "mean     0.010005\n",
      "std      0.114722\n",
      "min     -0.496725\n",
      "25%     -0.039284\n",
      "50%      0.009804\n",
      "75%      0.051581\n",
      "max      0.444775\n"
     ]
    }
   ],
   "source": [
    "residuals = pd.DataFrame(model_fit.resid)\n",
    "residuals.plot()\n",
    "plt.show()\n",
    "# density plot of residuals\n",
    "residuals.plot(kind='kde')\n",
    "plt.show()\n",
    "# summary stats of residuals\n",
    "print(residuals.describe())"
   ]
  },
  {
   "cell_type": "markdown",
   "id": "f4d40289",
   "metadata": {},
   "source": [
    "Making a forecast using the ARIMA3 model"
   ]
  },
  {
   "cell_type": "code",
   "execution_count": 28,
   "id": "fabd5ae7",
   "metadata": {},
   "outputs": [],
   "source": [
    "output3 = model_fit.forecast(steps=20)\n",
    "output3 = pd.DataFrame({'predictionssc': output3[:]})"
   ]
  },
  {
   "cell_type": "markdown",
   "id": "c99b36ad",
   "metadata": {},
   "source": [
    "Visualization of the results"
   ]
  },
  {
   "cell_type": "code",
   "execution_count": 29,
   "id": "151d8b97",
   "metadata": {},
   "outputs": [],
   "source": [
    "data_test3d = data_test3d[0:20]\n",
    "data_test3d = pd.DataFrame({'realsc': data_test3d[:, 0]})"
   ]
  },
  {
   "cell_type": "code",
   "execution_count": 30,
   "id": "7af591d4",
   "metadata": {},
   "outputs": [],
   "source": [
    "output3['predictions'] = sc.inverse_transform(output3['predictionssc'].values.reshape(-1,1))\n",
    "data_test3d['real'] = sc.inverse_transform(data_test3d['realsc'].values.reshape(-1,1))"
   ]
  },
  {
   "cell_type": "code",
   "execution_count": 31,
   "id": "7543a469",
   "metadata": {},
   "outputs": [
    {
     "data": {
      "image/png": "[encoded data removed]",
      "text/plain": [
       "<Figure size 560x160 with 1 Axes>"
      ]
     },
     "metadata": {
      "needs_background": "light"
     },
     "output_type": "display_data"
    }
   ],
   "source": [
    "plt.figure(figsize=(7, 2), dpi=80)\n",
    "plt.plot(data_test3d['real'], color='black', label='real')\n",
    "plt.plot(output3['predictions'], color='green', label='prediction')\n",
    "plt.xticks(np.arange(0, 20+1, 2.0))\n",
    "plt.title('Amgen Inc.')\n",
    "plt.xlabel('Day')\n",
    "plt.ylabel('Simple mean return')\n",
    "plt.legend()\n",
    "plt.show()"
   ]
  },
  {
   "cell_type": "markdown",
   "id": "27d43844",
   "metadata": {},
   "source": [
    "Mean squared error of the results"
   ]
  },
  {
   "cell_type": "code",
   "execution_count": 32,
   "id": "1e088d15",
   "metadata": {},
   "outputs": [
    {
     "name": "stdout",
     "output_type": "stream",
     "text": [
      "0.007331782499382976\n"
     ]
    }
   ],
   "source": [
    "data_test_mse3d = data_test3d.iloc[:, 0:1].values\n",
    "output33 = output3.iloc[:, 0:1].values\n",
    "\n",
    "diff_res = np.subtract(data_test_mse3d, output33)\n",
    "sq_res = np.square(diff_res)\n",
    "mse_res = sq_res.mean()\n",
    "\n",
    "print(mse_res)"
   ]
  },
  {
   "cell_type": "code",
   "execution_count": 33,
   "id": "8f792968",
   "metadata": {},
   "outputs": [
    {
     "name": "stdout",
     "output_type": "stream",
     "text": [
      "    predictionssc  predictions\n",
      "0        0.504450    -0.000006\n",
      "1        0.400013    -0.000045\n",
      "2        0.541947     0.000008\n",
      "3        0.533155     0.000004\n",
      "4        0.516170    -0.000002\n",
      "5        0.500724    -0.000008\n",
      "6        0.531048     0.000004\n",
      "7        0.580566     0.000022\n",
      "8        0.470104    -0.000019\n",
      "9        0.491451    -0.000011\n",
      "10       0.525031     0.000001\n",
      "11       0.494414    -0.000010\n",
      "12       0.475269    -0.000017\n",
      "13       0.487631    -0.000012\n",
      "14       0.534467     0.000005\n",
      "15       0.517941    -0.000001\n",
      "16       0.499426    -0.000008\n",
      "17       0.534881     0.000005\n",
      "18       0.537447     0.000006\n",
      "19       0.508321    -0.000005\n"
     ]
    }
   ],
   "source": [
    "print(output3)"
   ]
  },
  {
   "cell_type": "code",
   "execution_count": 34,
   "id": "a54f3f2d",
   "metadata": {},
   "outputs": [
    {
     "name": "stdout",
     "output_type": "stream",
     "text": [
      "      realsc      real\n",
      "0   0.599902  0.000029\n",
      "1   0.570401  0.000018\n",
      "2   0.516246 -0.000002\n",
      "3   0.586375  0.000024\n",
      "4   0.535891  0.000005\n",
      "5   0.580186  0.000022\n",
      "6   0.431340 -0.000033\n",
      "7   0.532355  0.000004\n",
      "8   0.493705 -0.000010\n",
      "9   0.458640 -0.000023\n",
      "10  0.530763  0.000004\n",
      "11  0.626834  0.000039\n",
      "12  0.624975  0.000039\n",
      "13  0.647796  0.000047\n",
      "14  0.495288 -0.000010\n",
      "15  0.543566  0.000008\n",
      "16  0.528663  0.000003\n",
      "17  0.452511 -0.000026\n",
      "18  0.469261 -0.000019\n",
      "19  0.442868 -0.000029\n"
     ]
    }
   ],
   "source": [
    "print(data_test3d)"
   ]
  }
 ],
 "metadata": {
  "kernelspec": {
   "display_name": "Python 3",
   "language": "python",
   "name": "python3"
  },
  "language_info": {
   "codemirror_mode": {
    "name": "ipython",
    "version": 3
   },
   "file_extension": ".py",
   "mimetype": "text/x-python",
   "name": "python",
   "nbconvert_exporter": "python",
   "pygments_lexer": "ipython3",
   "version": "3.8.3"
  }
 },
 "nbformat": 4,
 "nbformat_minor": 5
}
